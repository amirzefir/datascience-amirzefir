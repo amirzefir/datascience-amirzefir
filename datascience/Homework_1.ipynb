{
 "cells": [
  {
   "cell_type": "markdown",
   "metadata": {},
   "source": [
    "# Домашнее задание #1"
   ]
  },
  {
   "cell_type": "markdown",
   "metadata": {},
   "source": [
    "Для начала вам понадобится импортировать модуль `numpy` как `np`"
   ]
  },
  {
   "cell_type": "code",
   "execution_count": 22,
   "metadata": {},
   "outputs": [],
   "source": [
    "# Начните писать код тут\n",
    "import numpy as np\n",
    "import matplotlib.pyplot as plot"
   ]
  },
  {
   "cell_type": "markdown",
   "metadata": {},
   "source": [
    "## Задача №1"
   ]
  },
  {
   "cell_type": "markdown",
   "metadata": {},
   "source": [
    "Считайте (через `input`) 2 числа: <br>\n",
    "`n` - размер `Numpy` вектора; <br>\n",
    "`x` - координата элемента вектора, который должен быть равен `1`. Остальные должны быть равны `0`. <br>\n",
    "Создайте вектор размера `n`, в котором все элементы равны `0`, кроме элемента с номером `x` - он равен `1`.\n"
   ]
  },
  {
   "cell_type": "code",
   "execution_count": 5,
   "metadata": {},
   "outputs": [
    {
     "name": "stdout",
     "output_type": "stream",
     "text": [
      "8\n",
      "2\n",
      "[0 0 1 0 0 0 0 0]\n"
     ]
    }
   ],
   "source": [
    "# Начните писать код тут\n",
    "n, x = int(input()), int(input())\n",
    "a = np.array([0]*n)\n",
    "a[x] = 1\n",
    "print(a)"
   ]
  },
  {
   "cell_type": "markdown",
   "metadata": {},
   "source": [
    "## Задача №2"
   ]
  },
  {
   "cell_type": "markdown",
   "metadata": {},
   "source": [
    "Считайте 3 числа: `n, m, s`. Создайте `Numpy` вектор, состоящий из чисел от `n` до `m` с шагом `s`."
   ]
  },
  {
   "cell_type": "code",
   "execution_count": 7,
   "metadata": {},
   "outputs": [
    {
     "name": "stdout",
     "output_type": "stream",
     "text": [
      "1\n",
      "9\n",
      "2\n",
      "[1 3 5 7 9]\n"
     ]
    }
   ],
   "source": [
    "# Начните писать код тут\n",
    "n , m , s = int(input()), int(input()), int(input())\n",
    "a = np.array([i for i in range(n, m + 1, s)])\n",
    "print(a)"
   ]
  },
  {
   "cell_type": "markdown",
   "metadata": {},
   "source": [
    "## Задача №3"
   ]
  },
  {
   "cell_type": "markdown",
   "metadata": {},
   "source": [
    "Создайте матрицу `3х3` со значениями от `0` до `8`. Значения нужно сгенерировать."
   ]
  },
  {
   "cell_type": "code",
   "execution_count": 21,
   "metadata": {},
   "outputs": [
    {
     "name": "stdout",
     "output_type": "stream",
     "text": [
      "[[0 1 2]\n",
      " [3 4 5]\n",
      " [6 7 8]]\n"
     ]
    }
   ],
   "source": [
    "# Начните писать код тут\n",
    "a = np.array([i for i in range(9)]).reshape(3, 3)\n",
    "print(a)"
   ]
  },
  {
   "cell_type": "markdown",
   "metadata": {},
   "source": [
    "## Задача №4"
   ]
  },
  {
   "cell_type": "markdown",
   "metadata": {},
   "source": [
    "1. Создайте матрицу `4х4` со случайными значениями.\n",
    "2. Найдите максимальное значение первой строки, минимальное - второй, среднее - третьей, сумму - четвертой."
   ]
  },
  {
   "cell_type": "code",
   "execution_count": 30,
   "metadata": {},
   "outputs": [
    {
     "name": "stdout",
     "output_type": "stream",
     "text": [
      "[[ 4  1  8  2]\n",
      " [10  4  7 10]\n",
      " [ 3  6  6  0]\n",
      " [ 8  9 10  2]]\n",
      "8\n",
      "4\n",
      "3.75\n",
      "29\n"
     ]
    }
   ],
   "source": [
    "# Начните писать код тут\n",
    "import random\n",
    "a = np.array([random.randint(0, 10) for i in range(16)]).reshape(4,4)\n",
    "print(a)\n",
    "print(max(a[0]))\n",
    "print(min(a[1]))\n",
    "print(sum(a[2])/4)\n",
    "print(sum(a[3]))"
   ]
  },
  {
   "cell_type": "markdown",
   "metadata": {},
   "source": [
    "## Задача №5"
   ]
  },
  {
   "cell_type": "markdown",
   "metadata": {},
   "source": [
    "Создайте диагональную матрицу `5х5`, все ненулевые элементы равны 5."
   ]
  },
  {
   "cell_type": "code",
   "execution_count": 44,
   "metadata": {},
   "outputs": [
    {
     "name": "stdout",
     "output_type": "stream",
     "text": [
      "[[5 0 0 0 0]\n",
      " [0 5 0 0 0]\n",
      " [0 0 5 0 0]\n",
      " [0 0 0 5 0]\n",
      " [0 0 0 0 5]]\n"
     ]
    }
   ],
   "source": [
    "# Начните писать код тут\n",
    "a = np.array([5]*5)\n",
    "x = np.diag((a))\n",
    "print(x)"
   ]
  },
  {
   "cell_type": "markdown",
   "metadata": {},
   "source": [
    "## Задача №6"
   ]
  },
  {
   "cell_type": "markdown",
   "metadata": {},
   "source": [
    "Создайте `Numpy` массив случайных чисел размерности `6х6х6` и найдите максимальное значение среди всех элементов."
   ]
  },
  {
   "cell_type": "code",
   "execution_count": 68,
   "metadata": {},
   "outputs": [
    {
     "name": "stdout",
     "output_type": "stream",
     "text": [
      "[[[ 88 923 812 825 343 626]\n",
      "  [324 362 669 120 803 866]\n",
      "  [962 387  36 704 642 591]\n",
      "  [851 911 975 541 914 376]\n",
      "  [793 143  74 322 136 220]\n",
      "  [122 906 742 701 631 410]]\n",
      "\n",
      " [[110 270 485 538 702 394]\n",
      "  [271 369 910  83 257 972]\n",
      "  [969 248 112  49 808 571]\n",
      "  [698 923 609 864 699 117]\n",
      "  [569 746 609 680 787 889]\n",
      "  [287 977 804 730  46 101]]\n",
      "\n",
      " [[799 375 546 789 660 450]\n",
      "  [373 651 465 149 366 113]\n",
      "  [937 417 562 473 737  39]\n",
      "  [328 697 447 788 897 513]\n",
      "  [317 773 980 925 687  95]\n",
      "  [435 299 111 632 844 271]]\n",
      "\n",
      " [[495 647 741 927  74  90]\n",
      "  [602 561 184 133 924 220]\n",
      "  [239 404 716 615 519 375]\n",
      "  [ 45 579 452 695 715  98]\n",
      "  [468 826 340 230 741 607]\n",
      "  [339 356 637 741 605 943]]\n",
      "\n",
      " [[675  27  42 708 204 610]\n",
      "  [461 364 633 810 567 179]\n",
      "  [803 917 994 971 216 243]\n",
      "  [332 720 627 649 865 440]\n",
      "  [762 826 896  77 620 576]\n",
      "  [527 791 613 943 656 892]]\n",
      "\n",
      " [[122  44 668 819 836 223]\n",
      "  [265 513 936 827 704  71]\n",
      "  [419 424  64 440 829 897]\n",
      "  [654 370 874 258 175 257]\n",
      "  [742 325 197 406   0 394]\n",
      "  [967 894 200 636 960 106]]]\n",
      "(6, 6, 6)\n",
      "994\n"
     ]
    }
   ],
   "source": [
    "# Начните писать код тут\n",
    "import random\n",
    "a1 = np.array([random.randint(0, 1001) for i in range(0, 36)]).reshape(6, 6)\n",
    "a2 = np.array([random.randint(0, 1001) for i in range(0, 36)]).reshape(6, 6)\n",
    "a3 = np.array([random.randint(0, 1001) for i in range(0, 36)]).reshape(6, 6)\n",
    "a4 = np.array([random.randint(0, 1001) for i in range(0, 36)]).reshape(6, 6)\n",
    "a5 = np.array([random.randint(0, 1001) for i in range(0, 36)]).reshape(6, 6)\n",
    "a6 = np.array([random.randint(0, 1001) for i in range(0, 36)]).reshape(6, 6)\n",
    "\n",
    "b = np.stack((a1, a2, a3, a4, a5, a6), axis=0)\n",
    "\n",
    "print(b)\n",
    "print(b.shape)\n",
    "print(b.max(axis = (0, 1, 2)))"
   ]
  },
  {
   "cell_type": "markdown",
   "metadata": {},
   "source": [
    "## Задача №7"
   ]
  },
  {
   "cell_type": "markdown",
   "metadata": {},
   "source": [
    "Напишите функцию, которая принимает на вход 2 `Numpy` матрицы, проверяет, можно ли их перемножить, и если можно - то перемножает и возвращает транспонированную результирующую матрицу."
   ]
  },
  {
   "cell_type": "code",
   "execution_count": 81,
   "metadata": {},
   "outputs": [
    {
     "name": "stdout",
     "output_type": "stream",
     "text": [
      "Enter n: 2\n",
      "Enter m: 3\n",
      "1\n",
      "5\n",
      "11\n",
      "1\n",
      "1\n",
      "1\n",
      "[[ 1  5 11]\n",
      " [ 1  1  1]]\n",
      "Enter n: 1\n",
      "Enter m: 5\n",
      "1\n",
      "2\n",
      "3\n",
      "4\n",
      "5\n",
      "[[1 2 3 4 5]]\n",
      "Ne mogu!\n"
     ]
    }
   ],
   "source": [
    "# Начните писать код тут\n",
    "def vivod_matrix():\n",
    "    n = int(input('Enter n: '))\n",
    "    m = int(input('Enter m: '))\n",
    "    a = np.array([0] * (n * m))\n",
    "    for i in range(n * m):\n",
    "        a[i] = int(input())\n",
    "    a = a.reshape(n, m)\n",
    "    print(a)\n",
    "    return a\n",
    "\n",
    "a1 = vivod_matrix()\n",
    "a2 = vivod_matrix()\n",
    "try:\n",
    "    b = a1 @ a2\n",
    "except ValueError:\n",
    "    print('Ne mogu!')\n",
    "else:\n",
    "    print(b.T)"
   ]
  },
  {
   "cell_type": "markdown",
   "metadata": {},
   "source": [
    "## Задача №8"
   ]
  },
  {
   "cell_type": "markdown",
   "metadata": {},
   "source": [
    "Эту задачу можете как запрограммировать, так и решить на листочке.\n",
    "\n",
    "Но проще, конечно, **запрограммировать**.\n",
    "\n",
    "Здесь вам придется заглянуть в ноутбук [\"Функция одной переменной/Производная функции многих переменных\"](./Derivative.ipynb) и убедиться, что вы поняли, как дифференцировать функцию многих переменных, а также в ноутбук [\"Оптимизация функции одной и многих переменных\"](./Optimization.ipynb) и убедиться, что вы поняли, как работает градиентный спуск. Если все-таки не поняли - пишите в [чат](https://t.me/joinchat/01_ttlSQj3hjZTg6), тегайте меня, `@leonidt`, пришлю вам что-нибудь в помощь."
   ]
  },
  {
   "cell_type": "markdown",
   "metadata": {},
   "source": [
    "Дана функция:\n",
    "\n",
    "$$ f(x_1, x_2) = x_1^2 + 2x_2^2 + e^{x_1+x_2} $$\n",
    "\n",
    "Найдите минимум данной функции, завершив вычисления при погрешности $$\\varepsilon = 0.5 $$, выбрав в качестве начального приблежения точку `(0, 0)` и коэффициент шага $$ H=0.1. $$"
   ]
  },
  {
   "cell_type": "code",
   "execution_count": 34,
   "metadata": {},
   "outputs": [
    {
     "name": "stdout",
     "output_type": "stream",
     "text": [
      "0.7471031979436978\n",
      "0.44803515237221764\n",
      "0.2957489789911293\n",
      "0.20803831606890583\n",
      "0.1516869046478578\n",
      "0.11263658922386695\n",
      "0.08438070588930488\n",
      "0.06347888153324344\n",
      "0.04785038414938228\n",
      "Minimum f(x_1, x_2) = 0.77274 in point (-0.29387; -0.16133)\n"
     ]
    }
   ],
   "source": [
    "# Начните писать код тут\n",
    "eps = 0.05\n",
    "H = 0.1\n",
    "x, y = 0, 0\n",
    "\n",
    "def z(x, y):\n",
    "    return (x**2 + 2*y**2 + np.exp(x+y))\n",
    "\n",
    "def dz_x(x, y):\n",
    "    return (2*x + np.exp(x+y))\n",
    "\n",
    "def dz_y(x, y):\n",
    "    return (4*y + np.exp(x+y))\n",
    "\n",
    "def gradient(a, b):\n",
    "    return np.sqrt(dz_x(x, y)**2 + dz_y(x,y)**2)\n",
    "\n",
    "while (gradient(x,y) > eps):\n",
    "    x_1 = x - H * dz_x(x, y)\n",
    "    y_1 = y - H * dz_y(x, y)\n",
    "    x, y = x_1, y_1\n",
    "    print(gradient(x, y))\n",
    "print('Minimum f(x_1, x_2) = ', format(z(x_1, y_1), '.5f'), ' in point (',\n",
    "      format(x_1, '.5f'), '; ', format(y_1, '.5f'), ')', sep='')\n"
   ]
  },
  {
   "cell_type": "code",
   "execution_count": null,
   "metadata": {},
   "outputs": [],
   "source": []
  }
 ],
 "metadata": {
  "kernelspec": {
   "display_name": "Python 3",
   "language": "python",
   "name": "python3"
  },
  "language_info": {
   "codemirror_mode": {
    "name": "ipython",
    "version": 3
   },
   "file_extension": ".py",
   "mimetype": "text/x-python",
   "name": "python",
   "nbconvert_exporter": "python",
   "pygments_lexer": "ipython3",
   "version": "3.8.8"
  }
 },
 "nbformat": 4,
 "nbformat_minor": 4
}
